{
  "nbformat": 4,
  "nbformat_minor": 0,
  "metadata": {
    "colab": {
      "name": "gulls-guide.ipynb",
      "provenance": [],
      "collapsed_sections": [],
      "authorship_tag": "ABX9TyO1/RonKbEMQs/F1ZiHR/l+"
    },
    "kernelspec": {
      "name": "python3",
      "display_name": "Python 3"
    },
    "accelerator": "GPU"
  },
  "cells": [
    {
      "cell_type": "markdown",
      "metadata": {
        "id": "4l_IP8mUHKSs",
        "colab_type": "text"
      },
      "source": [
        "#Convolutional Neural Network for identifying 3 most commonly mistaken species of gulls in Poland - *Larus argentatus*, *Larus cachinnans* and *Larus michachellis*"
      ]
    },
    {
      "cell_type": "markdown",
      "metadata": {
        "id": "Scq6n-D5LbfJ",
        "colab_type": "text"
      },
      "source": [
        "<table align=\"center\">\n",
        "  <td align=\"center\"><a target=\"_blank\" href=\"https://colab.research.google.com/github/bazylip/gulls-ai-guide/blob/master/gulls_guide.ipynb\">\n",
        "        <img src=\"http://introtodeeplearning.com/images/colab/colab.png?v2.0\"  style=\"padding-bottom:5px;\" />Run in Google Colab</a></td>\n",
        "  <td align=\"center\"><a target=\"_blank\" href=\"https://github.com/bazylip/gulls-ai-guide/blob/master/gulls_guide.ipynb\">\n",
        "        <img src=\"http://introtodeeplearning.com/images/colab/github.png\"  height=\"70px\" style=\"padding-bottom:5px;\"  />View Source on GitHub</a></td>\n",
        "</table>"
      ]
    },
    {
      "cell_type": "code",
      "metadata": {
        "id": "_P-8tEUIHE4k",
        "colab_type": "code",
        "colab": {}
      },
      "source": [
        "# Import Tensorflow 2.0\n",
        "%tensorflow_version 2.x\n",
        "import tensorflow as tf \n",
        "\n",
        "import matplotlib.pyplot as plt\n",
        "import numpy as np\n",
        "import random\n",
        "import re\n",
        "from PIL import Image, ImageOps\n",
        "from io import BytesIO\n",
        "from tqdm import tqdm\n",
        "from bs4 import BeautifulSoup as bs\n",
        "import requests\n",
        "import collections\n",
        "\n",
        "# Check that we are using a GPU, if not switch runtimes\n",
        "#   using Runtime > Change Runtime Type > GPU\n",
        "assert len(tf.config.list_physical_devices('GPU')) > 0"
      ],
      "execution_count": 121,
      "outputs": []
    },
    {
      "cell_type": "markdown",
      "metadata": {
        "id": "wah-T8cgJeP8",
        "colab_type": "text"
      },
      "source": [
        "Download images from [Gull Research website](http://www.gull-research.org/)"
      ]
    },
    {
      "cell_type": "code",
      "metadata": {
        "id": "9LzQeNBKJdtj",
        "colab_type": "code",
        "colab": {}
      },
      "source": [
        "urls = ['http://www.gull-research.org/hg/hg1cy/', 'http://www.gull-research.org/hg/hg2cy/',\n",
        "        'http://www.gull-research.org/hg/hg3cy/', 'http://www.gull-research.org/hg/hg4cy/',\n",
        "        'http://www.gull-research.org/hg/hg5cy/']\n",
        "image_urls = collections.defaultdict(list)\n",
        "\n",
        "def list_files(url, ext='html'):\n",
        "    page = requests.get(url).text\n",
        "    soup = bs(page, 'html.parser')\n",
        "    return [url + node.get('href') for node in soup.find_all('a') if node.get('href').endswith(ext)]\n",
        "  \n",
        "def get_all_image_urls(site):\n",
        "    response = requests.get(site)\n",
        "\n",
        "    soup = BeautifulSoup(response.text, 'html.parser')\n",
        "    img_tags = soup.find_all('img')\n",
        "\n",
        "    urls = [img['src'] for img in img_tags]\n",
        "    image_urls = []\n",
        "    for url in urls:\n",
        "        filename = re.search(r'/([\\w_-]+[.](jpg|png|JPG|PNG))$', url)\n",
        "        if not filename:\n",
        "            continue\n",
        "        if 'http' not in url:\n",
        "            # sometimes an image source can be relative \n",
        "            # if it is provide the base url which also happens \n",
        "            # to be the site variable atm.\n",
        "            site_level_below = '/'.join(site.split('/')[:-2])\n",
        "            url_with_no_dots = '/'.join(url.split('/')[1:]) \n",
        "            url = f\"{site_level_below}/{url_with_no_dots}\"\n",
        "        image_urls.append(url)\n",
        "    return image_urls\n",
        "\n",
        "for age, url in enumerate(urls):\n",
        "  for site in list_files(url):\n",
        "    urls_from_site = get_all_image_urls(site)\n",
        "    \n",
        "    if urls_from_site is not None:\n",
        "      for image_url in urls_from_site:\n",
        "        image_urls[age+1].append(image_url)\n",
        "\n"
      ],
      "execution_count": 77,
      "outputs": []
    },
    {
      "cell_type": "code",
      "metadata": {
        "id": "aOxpw2EVeUmw",
        "colab_type": "code",
        "colab": {
          "base_uri": "https://localhost:8080/",
          "height": 104
        },
        "outputId": "67a95d2b-57fa-4adf-ce04-9f69932732d0"
      },
      "source": [
        "for age in image_urls.keys():\n",
        "  print(f\"Images for age {age}: {len(image_urls[age])}\")"
      ],
      "execution_count": 79,
      "outputs": [
        {
          "output_type": "stream",
          "text": [
            "Images for age 1: 1438\n",
            "Images for age 2: 1802\n",
            "Images for age 3: 1258\n",
            "Images for age 4: 1201\n",
            "Images for age 5: 1731\n"
          ],
          "name": "stdout"
        }
      ]
    },
    {
      "cell_type": "markdown",
      "metadata": {
        "id": "zv6NwXkMkkpB",
        "colab_type": "text"
      },
      "source": [
        "Download the images and turn them into np.array"
      ]
    },
    {
      "cell_type": "code",
      "metadata": {
        "id": "44_9KX-flEZE",
        "colab_type": "code",
        "colab": {}
      },
      "source": [
        "size = (480, 320)\n",
        "images_and_labels = []\n",
        "\n",
        "for age in image_urls.keys():\n",
        "  for url in image_urls[age]:\n",
        "    response = requests.get(url)\n",
        "    img = Image.open(BytesIO(response.content))\n",
        "    img_resized = img.resize(size, Image.ANTIALIAS)\n",
        "\n",
        "    img_array = np.asarray(img_resized)\n",
        "    images_and_labels.append((img_array, age))\n",
        "\n",
        "print(images_and_labels[0])"
      ],
      "execution_count": null,
      "outputs": []
    }
  ]
}